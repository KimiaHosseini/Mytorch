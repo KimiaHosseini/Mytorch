{
  "cells": [
    {
      "cell_type": "markdown",
      "metadata": {
        "id": "U3GThWPlUu7X"
      },
      "source": [
        "### Import Libraries"
      ]
    },
    {
      "cell_type": "code",
      "source": [
        "from google.colab import drive\n",
        "drive.mount('/content/drive')"
      ],
      "metadata": {
        "colab": {
          "base_uri": "https://localhost:8080/"
        },
        "id": "UOieJWEHa5Op",
        "outputId": "6f6830d4-153c-442a-e0ba-7f54c0650678"
      },
      "execution_count": 1,
      "outputs": [
        {
          "output_type": "stream",
          "name": "stdout",
          "text": [
            "Mounted at /content/drive\n"
          ]
        }
      ]
    },
    {
      "cell_type": "code",
      "execution_count": 2,
      "metadata": {
        "id": "Rxfb7MQBUu7Y"
      },
      "outputs": [],
      "source": [
        "\"If it does not work use code below while running this notebook in this dir.\"\n",
        "import sys\n",
        "import os\n",
        "py_file_location = \"/content/drive/MyDrive/Colab Notebooks\"\n",
        "sys.path.append(os.path.abspath(py_file_location))\n",
        "\n",
        "from mytorch import Tensor\n",
        "from mytorch import activation as active_func\n",
        "from mytorch import loss as loss_func\n",
        "from mytorch import optimizer as optim\n",
        "from mytorch import layer as nn\n",
        "\n",
        "import numpy as np\n",
        "import matplotlib.pyplot as plt"
      ]
    },
    {
      "cell_type": "markdown",
      "metadata": {
        "id": "26ULIZ3MUu7Z"
      },
      "source": [
        "### Simple Network\n",
        "here you have to define a simple linear layer to find coefficients of x_i in below problem. <br>\n",
        "y = ax_1 + bx_2 + cx_3 <br><br>\n",
        "![simple network.drawio.png](<attachment:simple network.drawio.png>)\n",
        "<br><br>\n",
        "weights of this linear layer is your answer."
      ]
    },
    {
      "cell_type": "markdown",
      "metadata": {
        "id": "ExlV2BmJUu7Z"
      },
      "source": [
        "### Generate Data"
      ]
    },
    {
      "cell_type": "code",
      "execution_count": 5,
      "metadata": {
        "id": "MC_H9_z5Uu7Z"
      },
      "outputs": [],
      "source": [
        "\"TODO: set coefficients\"\n",
        "a = 2.0\n",
        "b = 3.0\n",
        "c = 4.0\n",
        "\n",
        "X = Tensor(np.random.randn(100, 3))\n",
        "coef = Tensor(np.array([[a], [b], [c]]))\n",
        "y = X @ coef + 5\n"
      ]
    },
    {
      "cell_type": "markdown",
      "metadata": {
        "id": "KvpHwepwUu7Z"
      },
      "source": [
        "### Train Network"
      ]
    },
    {
      "cell_type": "code",
      "execution_count": 24,
      "metadata": {
        "colab": {
          "base_uri": "https://localhost:8080/"
        },
        "id": "1ODrCr4tUu7Z",
        "outputId": "5fea541d-cde7-4b14-a47a-8382c27b9214"
      },
      "outputs": [
        {
          "output_type": "stream",
          "name": "stdout",
          "text": [
            "initial W and bias:\n",
            "Tensor([[0.4727573 ]\n",
            " [0.30117259]\n",
            " [0.69399012]], requires_grad=True)\n",
            "Tensor([[0.]], requires_grad=True)\n"
          ]
        }
      ],
      "source": [
        "l = nn.Linear(3, 1, need_bias=True)\n",
        "\n",
        "\"TODO: define an optimizer\"\n",
        "optimizer = optim.SGD([l],learning_rate=0.01)\n",
        "\n",
        "\"TODO: print weight and bias of linear layer\"\n",
        "print(\"initial W and bias:\")\n",
        "print(l.weight)\n",
        "print(l.bias)\n",
        "\n",
        "batch_size = 20\n",
        "epLoss = []\n",
        "\n",
        "for epoch in range(100):\n",
        "\n",
        "    epoch_loss = 0.0\n",
        "\n",
        "    for start in range(0, 100, batch_size):\n",
        "        end = start + batch_size\n",
        "\n",
        "        inputs = X[start:end]\n",
        "\n",
        "        # TODO: predicted\n",
        "        predicted = l(inputs)\n",
        "        actual = y[start:end]\n",
        "        actual.data = actual.data.reshape(batch_size, 1)\n",
        "\n",
        "        # TODO: calculate MSE loss\n",
        "        loss = loss_func.MeanSquaredError(actual, predicted)\n",
        "        # print(loss)\n",
        "\n",
        "        # TODO: backward\n",
        "        optimizer.zero_grad()\n",
        "        # grad = np.ones(loss.shape)\n",
        "        grad = Tensor(np.ones(loss.data.shape))\n",
        "        # print(grad)\n",
        "        loss.backward(grad)\n",
        "        # print(\"Gradients:\")\n",
        "        # print(\"Weight gradient:\", l.weight.grad.data)\n",
        "        # print(\"Bias gradient:\", l.bias.grad.data)\n",
        "\n",
        "        # TODO: add loss to epoch_loss\n",
        "        epoch_loss += loss.data.sum()\n",
        "\n",
        "        # TODO: update w and b using optimizer\n",
        "        optimizer.step()\n",
        "\n",
        "    epLoss.append(epoch_loss)\n"
      ]
    },
    {
      "cell_type": "markdown",
      "source": [],
      "metadata": {
        "id": "XhwkB2BoRVJ1"
      }
    },
    {
      "cell_type": "markdown",
      "metadata": {
        "id": "ivaFGMuPUu7Z"
      },
      "source": [
        "### Evaluate"
      ]
    },
    {
      "cell_type": "code",
      "execution_count": 25,
      "metadata": {
        "id": "ql1Y3s6lUu7a",
        "colab": {
          "base_uri": "https://localhost:8080/",
          "height": 558
        },
        "outputId": "46639d2e-f0de-411e-dec7-1aeb2428fbb4"
      },
      "outputs": [
        {
          "output_type": "display_data",
          "data": {
            "text/plain": [
              "<Figure size 640x480 with 1 Axes>"
            ],
            "image/png": "[encoded data removed]"
          },
          "metadata": {}
        },
        {
          "output_type": "stream",
          "name": "stdout",
          "text": [
            "\n",
            "OUT W and bias:\n",
            "Tensor([[1.99997398]\n",
            " [2.99994674]\n",
            " [3.9999988 ]], requires_grad=True)\n",
            "Tensor([[4.99988365]], requires_grad=True)\n"
          ]
        }
      ],
      "source": [
        "plt.plot(epLoss, label='Error')\n",
        "plt.xlabel('epoch')\n",
        "plt.ylabel('error')\n",
        "plt.show();\n",
        "\n",
        "print(\"\\nOUT W and bias:\")\n",
        "print(l.weight)\n",
        "print(l.bias)"
      ]
    },
    {
      "cell_type": "code",
      "source": [],
      "metadata": {
        "id": "dfmDrRMyG7ij"
      },
      "execution_count": null,
      "outputs": []
    }
  ],
  "metadata": {
    "kernelspec": {
      "display_name": "Python 3",
      "language": "python",
      "name": "python3"
    },
    "language_info": {
      "codemirror_mode": {
        "name": "ipython",
        "version": 3
      },
      "file_extension": ".py",
      "mimetype": "text/x-python",
      "name": "python",
      "nbconvert_exporter": "python",
      "pygments_lexer": "ipython3",
      "version": "3.10.11"
    },
    "colab": {
      "provenance": []
    }
  },
  "nbformat": 4,
  "nbformat_minor": 0
}