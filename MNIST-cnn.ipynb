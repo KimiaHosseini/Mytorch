{
 "cells": [
  {
   "cell_type": "markdown",
   "metadata": {},
   "source": [
    "### Import Libraries"
   ]
  },
  {
   "cell_type": "code",
   "execution_count": 1,
   "metadata": {
    "ExecuteTime": {
     "end_time": "2024-05-17T18:07:36.880926Z",
     "start_time": "2024-05-17T18:07:35.627002Z"
    }
   },
   "outputs": [],
   "source": [
    "\"If it does not work use code below while running this notebook in this dir.\"\n",
    "# import sys\n",
    "# import os\n",
    "# sys.path.append(os.path.abspath(os.getcwd()))\n",
    "\n",
    "from mytorch import Tensor, Model\n",
    "from mytorch import activation as active_func\n",
    "from mytorch import loss as loss_func\n",
    "from mytorch import optimizer as optim \n",
    "from mytorch import layer as nn\n",
    "from mytorch.util import DataLoader\n",
    "import matplotlib.pyplot as plt\n",
    "import numpy as np"
   ]
  },
  {
   "cell_type": "markdown",
   "metadata": {},
   "source": [
    "### Load MNIST"
   ]
  },
  {
   "cell_type": "code",
   "execution_count": 2,
   "metadata": {
    "ExecuteTime": {
     "end_time": "2024-05-17T18:07:38.295238Z",
     "start_time": "2024-05-17T18:07:36.879155Z"
    }
   },
   "outputs": [
    {
     "name": "stdout",
     "output_type": "stream",
     "text": [
      "loading train...\n",
      "loading test...\n",
      "processing...\n"
     ]
    },
    {
     "data": {
      "text/plain": [
       "'you can see how data is loaded'"
      ]
     },
     "execution_count": 2,
     "metadata": {},
     "output_type": "execute_result"
    }
   ],
   "source": [
    "data_loader = DataLoader(train_addr='MNIST/train', test_addr='MNIST/test')\n",
    "data_loader.load()\n",
    "\n",
    "trainloader = data_loader.getTrain()\n",
    "testloader = data_loader.getTest()\n",
    "\n",
    "\"you can see how data is loaded\"\n",
    "# print(data_loader.getTrain()[0][0].shape)\n",
    "# print(data_loader.getTrain()[0][1].shape)"
   ]
  },
  {
   "cell_type": "markdown",
   "metadata": {},
   "source": [
    "### Define and Create your Model"
   ]
  },
  {
   "cell_type": "code",
   "execution_count": 3,
   "metadata": {
    "ExecuteTime": {
     "end_time": "2024-05-17T18:07:38.296349Z",
     "start_time": "2024-05-17T18:07:38.258177Z"
    }
   },
   "outputs": [
    {
     "name": "stdout",
     "output_type": "stream",
     "text": [
      "<__main__.MyModel object at 0x000001BD38966CE0>\n"
     ]
    }
   ],
   "source": [
    "# Define and Create your Model\n",
    "class MyModel(Model):\n",
    "    def __init__(self):\n",
    "        super(MyModel, self).__init__()\n",
    "        self.conv1 = nn.Conv2d(1, 32, kernel_size=(3, 3), stride=(1, 1), padding=(1, 1))\n",
    "        self.conv2 = nn.Conv2d(32, 64, kernel_size=(3, 3), stride=(1, 1), padding=(1, 1))\n",
    "        self.pool = nn.MaxPool2d(1,2,kernel_size=(2, 2), stride=(2, 2), padding=(0, 0))\n",
    "        self.fc1 = nn.Linear(64 * 7 * 7, 128, need_bias=True)\n",
    "        self.fc2 = nn.Linear(128, 10, need_bias=True)\n",
    "        self.relu = active_func.relu\n",
    "        self.layers = [\n",
    "            self.conv1,\n",
    "            self.conv2,\n",
    "            self.fc1,\n",
    "            self.fc2,\n",
    "        ]\n",
    "\n",
    "\n",
    "    def forward(self, x: Tensor) -> Tensor:\n",
    "        if len(x.shape) == 3:  # Add channel dimension if missing\n",
    "            x.data = np.expand_dims(x.data, axis=1)\n",
    "        x = self.pool(self.relu(self.conv1(x)))\n",
    "        x = self.pool(self.relu(self.conv2(x)))\n",
    "        x = x.reshape((-1, 64 * 7 * 7))\n",
    "        x = self.relu(self.fc1(x))\n",
    "        x = self.fc2(x)\n",
    "        return x\n",
    "\n",
    "model = MyModel()\n",
    "print(model.summary())"
   ]
  },
  {
   "cell_type": "markdown",
   "metadata": {},
   "source": [
    "### Choose a Loss Function"
   ]
  },
  {
   "cell_type": "code",
   "execution_count": 4,
   "metadata": {
    "ExecuteTime": {
     "end_time": "2024-05-17T18:07:38.334536Z",
     "start_time": "2024-05-17T18:07:38.268412Z"
    }
   },
   "outputs": [],
   "source": [
    "\"TODO: choose a proper loss function\"\n",
    "criterion = loss_func.CategoricalCrossEntropy"
   ]
  },
  {
   "cell_type": "markdown",
   "metadata": {},
   "source": [
    "### Choose an Optimizer"
   ]
  },
  {
   "cell_type": "code",
   "execution_count": 10,
   "metadata": {
    "ExecuteTime": {
     "end_time": "2024-05-17T18:07:38.334756Z",
     "start_time": "2024-05-17T18:07:38.283609Z"
    }
   },
   "outputs": [],
   "source": [
    "\"TODO: choose a proper optimizer\"\n",
    "optimizer = optim.SGD(model.layers, learning_rate=0.01)"
   ]
  },
  {
   "cell_type": "markdown",
   "metadata": {},
   "source": [
    "### Training Model"
   ]
  },
  {
   "cell_type": "code",
   "execution_count": 11,
   "metadata": {},
   "outputs": [
    {
     "name": "stdout",
     "output_type": "stream",
     "text": [
      "finished train\n",
      "Epoch 1/30, Train Accuracy: 66.22%, Test Accuracy: 80.70%\n",
      "finished train\n",
      "Epoch 2/30, Train Accuracy: 85.57%, Test Accuracy: 84.90%\n",
      "finished train\n",
      "Epoch 3/30, Train Accuracy: 88.63%, Test Accuracy: 87.30%\n",
      "finished train\n",
      "Epoch 4/30, Train Accuracy: 89.95%, Test Accuracy: 88.10%\n",
      "finished train\n",
      "Epoch 5/30, Train Accuracy: 90.77%, Test Accuracy: 89.00%\n",
      "finished train\n",
      "Epoch 6/30, Train Accuracy: 91.48%, Test Accuracy: 89.50%\n",
      "finished train\n",
      "Epoch 7/30, Train Accuracy: 92.02%, Test Accuracy: 90.30%\n"
     ]
    },
    {
     "ename": "KeyboardInterrupt",
     "evalue": "",
     "output_type": "error",
     "traceback": [
      "\u001b[1;31m---------------------------------------------------------------------------\u001b[0m",
      "\u001b[1;31mKeyboardInterrupt\u001b[0m                         Traceback (most recent call last)",
      "Input \u001b[1;32mIn [11]\u001b[0m, in \u001b[0;36m<cell line: 34>\u001b[1;34m()\u001b[0m\n\u001b[0;32m     40\u001b[0m batch_labels \u001b[38;5;241m=\u001b[39m training_data_labels[batch_start:batch_start \u001b[38;5;241m+\u001b[39m SAMPLE_BATCH_SIZE]\n\u001b[0;32m     41\u001b[0m optimizer\u001b[38;5;241m.\u001b[39mzero_grad()\n\u001b[1;32m---> 42\u001b[0m batch_outputs \u001b[38;5;241m=\u001b[39m \u001b[43mmodel\u001b[49m\u001b[43m(\u001b[49m\u001b[43mbatch_inputs\u001b[49m\u001b[43m)\u001b[49m\n\u001b[0;32m     43\u001b[0m loss_value \u001b[38;5;241m=\u001b[39m criterion(batch_outputs, batch_labels)\n\u001b[0;32m     44\u001b[0m grad_tensor \u001b[38;5;241m=\u001b[39m Tensor(np\u001b[38;5;241m.\u001b[39mones(loss_value\u001b[38;5;241m.\u001b[39mdata\u001b[38;5;241m.\u001b[39mshape))\n",
      "File \u001b[1;32mc:\\Users\\Lenovo\\Desktop\\uni\\TERM 6\\CI\\p2\\mytorch\\model.py:10\u001b[0m, in \u001b[0;36mModel.__call__\u001b[1;34m(self, inp)\u001b[0m\n\u001b[0;32m      9\u001b[0m \u001b[38;5;28;01mdef\u001b[39;00m \u001b[38;5;21m__call__\u001b[39m(\u001b[38;5;28mself\u001b[39m, inp: Tensor) \u001b[38;5;241m-\u001b[39m\u001b[38;5;241m>\u001b[39m Tensor:\n\u001b[1;32m---> 10\u001b[0m     \u001b[38;5;28;01mreturn\u001b[39;00m \u001b[38;5;28;43mself\u001b[39;49m\u001b[38;5;241;43m.\u001b[39;49m\u001b[43mforward\u001b[49m\u001b[43m(\u001b[49m\u001b[43minp\u001b[49m\u001b[43m)\u001b[49m\n",
      "Input \u001b[1;32mIn [8]\u001b[0m, in \u001b[0;36mMyModel.forward\u001b[1;34m(self, x)\u001b[0m\n\u001b[0;32m     21\u001b[0m     x\u001b[38;5;241m.\u001b[39mdata \u001b[38;5;241m=\u001b[39m np\u001b[38;5;241m.\u001b[39mexpand_dims(x\u001b[38;5;241m.\u001b[39mdata, axis\u001b[38;5;241m=\u001b[39m\u001b[38;5;241m1\u001b[39m)\n\u001b[0;32m     22\u001b[0m x \u001b[38;5;241m=\u001b[39m \u001b[38;5;28mself\u001b[39m\u001b[38;5;241m.\u001b[39mpool(\u001b[38;5;28mself\u001b[39m\u001b[38;5;241m.\u001b[39mrelu(\u001b[38;5;28mself\u001b[39m\u001b[38;5;241m.\u001b[39mconv1(x)))\n\u001b[1;32m---> 23\u001b[0m x \u001b[38;5;241m=\u001b[39m \u001b[38;5;28mself\u001b[39m\u001b[38;5;241m.\u001b[39mpool(\u001b[38;5;28;43mself\u001b[39;49m\u001b[38;5;241;43m.\u001b[39;49m\u001b[43mrelu\u001b[49m\u001b[43m(\u001b[49m\u001b[38;5;28;43mself\u001b[39;49m\u001b[38;5;241;43m.\u001b[39;49m\u001b[43mconv2\u001b[49m\u001b[43m(\u001b[49m\u001b[43mx\u001b[49m\u001b[43m)\u001b[49m\u001b[43m)\u001b[49m)\n\u001b[0;32m     24\u001b[0m x \u001b[38;5;241m=\u001b[39m x\u001b[38;5;241m.\u001b[39mreshape((\u001b[38;5;241m-\u001b[39m\u001b[38;5;241m1\u001b[39m, \u001b[38;5;241m64\u001b[39m \u001b[38;5;241m*\u001b[39m \u001b[38;5;241m7\u001b[39m \u001b[38;5;241m*\u001b[39m \u001b[38;5;241m7\u001b[39m))\n\u001b[0;32m     25\u001b[0m x \u001b[38;5;241m=\u001b[39m \u001b[38;5;28mself\u001b[39m\u001b[38;5;241m.\u001b[39mrelu(\u001b[38;5;28mself\u001b[39m\u001b[38;5;241m.\u001b[39mfc1(x))\n",
      "File \u001b[1;32mc:\\Users\\Lenovo\\Desktop\\uni\\TERM 6\\CI\\p2\\mytorch\\activation\\relu.py:9\u001b[0m, in \u001b[0;36mrelu\u001b[1;34m(x)\u001b[0m\n\u001b[0;32m      6\u001b[0m \u001b[38;5;124m\"\u001b[39m\u001b[38;5;124mTODO: implement relu function\u001b[39m\u001b[38;5;124m\"\u001b[39m\n\u001b[0;32m      8\u001b[0m \u001b[38;5;66;03m# use np.maximum\u001b[39;00m\n\u001b[1;32m----> 9\u001b[0m data \u001b[38;5;241m=\u001b[39m np\u001b[38;5;241m.\u001b[39mwhere(x\u001b[38;5;241m.\u001b[39mdata \u001b[38;5;241m>\u001b[39m \u001b[38;5;241m0\u001b[39m, \u001b[43mx\u001b[49m\u001b[38;5;241;43m.\u001b[39;49m\u001b[43mdata\u001b[49m, \u001b[38;5;241m0\u001b[39m)\n\u001b[0;32m     10\u001b[0m req_grad \u001b[38;5;241m=\u001b[39m x\u001b[38;5;241m.\u001b[39mrequires_grad\n\u001b[0;32m     12\u001b[0m \u001b[38;5;28;01mif\u001b[39;00m req_grad:\n",
      "File \u001b[1;32mc:\\Users\\Lenovo\\Desktop\\uni\\TERM 6\\CI\\p2\\mytorch\\tensor.py:60\u001b[0m, in \u001b[0;36mTensor.data\u001b[1;34m(self)\u001b[0m\n\u001b[0;32m     57\u001b[0m     \u001b[38;5;28;01mif\u001b[39;00m \u001b[38;5;28mself\u001b[39m\u001b[38;5;241m.\u001b[39mrequires_grad:\n\u001b[0;32m     58\u001b[0m         \u001b[38;5;28mself\u001b[39m\u001b[38;5;241m.\u001b[39mzero_grad()\n\u001b[1;32m---> 60\u001b[0m \u001b[38;5;129m@property\u001b[39m\n\u001b[0;32m     61\u001b[0m \u001b[38;5;28;01mdef\u001b[39;00m \u001b[38;5;21mdata\u001b[39m(\u001b[38;5;28mself\u001b[39m):\n\u001b[0;32m     62\u001b[0m     \u001b[38;5;28;01mreturn\u001b[39;00m \u001b[38;5;28mself\u001b[39m\u001b[38;5;241m.\u001b[39m_data\n\u001b[0;32m     64\u001b[0m \u001b[38;5;129m@data\u001b[39m\u001b[38;5;241m.\u001b[39msetter\n\u001b[0;32m     65\u001b[0m \u001b[38;5;28;01mdef\u001b[39;00m \u001b[38;5;21mdata\u001b[39m(\u001b[38;5;28mself\u001b[39m, new_data: np\u001b[38;5;241m.\u001b[39mndarray) \u001b[38;5;241m-\u001b[39m\u001b[38;5;241m>\u001b[39m \u001b[38;5;28;01mNone\u001b[39;00m:\n",
      "\u001b[1;31mKeyboardInterrupt\u001b[0m: "
     ]
    }
   ],
   "source": [
    "training_data_images = []\n",
    "training_data_labels = []\n",
    "\n",
    "for image_batch, label_batch in trainloader:\n",
    "    for idx in range(500):\n",
    "        normalized_image = image_batch.data[idx] / 255.0\n",
    "        training_data_images.append(normalized_image) \n",
    "    training_data_labels.extend(label_batch)\n",
    "\n",
    "training_data_images = Tensor(np.array(training_data_images), requires_grad=True)\n",
    "training_data_labels = Tensor(np.array(training_data_labels), requires_grad=True)\n",
    "\n",
    "\n",
    "testing_data_images = []\n",
    "testing_data_labels = []\n",
    "for image_batch, label_batch in testloader:\n",
    "    for idx in range(100):\n",
    "        normalized_image = image_batch.data[idx] / 255.0\n",
    "        testing_data_images.append(normalized_image)\n",
    "    testing_data_labels.extend(label_batch)\n",
    "\n",
    "testing_data_images = Tensor(np.array(testing_data_images), requires_grad=True)\n",
    "testing_data_labels = Tensor(np.array(testing_data_labels), requires_grad=True)\n",
    "\n",
    "# Set training parameters\n",
    "TOTAL_EPOCHS = 30\n",
    "SAMPLE_BATCH_SIZE = 50\n",
    "train_acc = []\n",
    "test_acc = []\n",
    "best_train_acc = 0.0\n",
    "best_test_acc = 0.0\n",
    "\n",
    "# Training and evaluation loop\n",
    "for epoch in range(TOTAL_EPOCHS):\n",
    "    model.train()\n",
    "    train_correct = 0\n",
    "    train_total = 0\n",
    "    for batch_start in range(0, training_data_images.shape[0], SAMPLE_BATCH_SIZE):\n",
    "        batch_inputs = training_data_images[batch_start:batch_start + SAMPLE_BATCH_SIZE]\n",
    "        batch_labels = training_data_labels[batch_start:batch_start + SAMPLE_BATCH_SIZE]\n",
    "        optimizer.zero_grad()\n",
    "        batch_outputs = model(batch_inputs)\n",
    "        loss_value = criterion(batch_outputs, batch_labels)\n",
    "        grad_tensor = Tensor(np.ones(loss_value.data.shape))\n",
    "        loss_value.backward(grad_tensor)\n",
    "        optimizer.step()\n",
    "\n",
    "        batch_predictions = np.argmax(batch_outputs.data, axis=1)\n",
    "        train_total += batch_labels.shape[0]\n",
    "        for idx in range(SAMPLE_BATCH_SIZE):\n",
    "            if batch_predictions[idx] == int(batch_labels.data[idx].data.item()):\n",
    "                train_correct += 1\n",
    "\n",
    "    epoch_train_accuracy = 100 * train_correct / train_total\n",
    "    train_acc.append(epoch_train_accuracy)\n",
    "    if epoch_train_accuracy > best_train_acc:\n",
    "        max_train_accuracy = epoch_train_accuracy\n",
    "\n",
    "    print(\"finished train\")\n",
    "    model.eval()\n",
    "    test_correct = 0\n",
    "    test_total = 0\n",
    "    for batch_start in range(0, testing_data_images.shape[0], SAMPLE_BATCH_SIZE):\n",
    "        batch_inputs = testing_data_images[batch_start:batch_start + SAMPLE_BATCH_SIZE]\n",
    "        batch_labels = testing_data_labels[batch_start:batch_start + SAMPLE_BATCH_SIZE]\n",
    "        batch_outputs = model(batch_inputs)\n",
    "        batch_predictions = np.argmax(batch_outputs.data, axis=1)\n",
    "        test_total += batch_labels.shape[0]\n",
    "        for idx in range(SAMPLE_BATCH_SIZE):\n",
    "            if batch_predictions[idx] == int(batch_labels.data[idx].data.item()):\n",
    "                test_correct += 1\n",
    "\n",
    "    epoch_test_accuracy = 100 * test_correct / test_total\n",
    "    test_acc.append(epoch_test_accuracy)\n",
    "    if epoch_test_accuracy > best_test_acc:\n",
    "        max_test_accuracy = epoch_test_accuracy\n",
    "\n",
    "    print(f'Epoch {epoch + 1}/{TOTAL_EPOCHS}, Train Accuracy: {epoch_train_accuracy:.2f}%, Test Accuracy: {epoch_test_accuracy:.2f}%')\n"
   ]
  },
  {
   "cell_type": "markdown",
   "metadata": {},
   "source": [
    "### Evaluate Model Performance"
   ]
  },
  {
   "cell_type": "code",
   "execution_count": 12,
   "metadata": {
    "ExecuteTime": {
     "end_time": "2024-05-17T18:21:44.998312Z",
     "start_time": "2024-05-17T18:21:44.685794Z"
    }
   },
   "outputs": [
    {
     "data": {
      "image/png": "[encoded data removed]",
      "text/plain": [
       "<Figure size 640x480 with 1 Axes>"
      ]
     },
     "metadata": {},
     "output_type": "display_data"
    },
    {
     "name": "stdout",
     "output_type": "stream",
     "text": [
      "\n",
      "On train - best accuracy: 0.00, final accuracy: 92.02\n",
      "On test - best accuracy: 0.00, final accuracy: 90.30\n"
     ]
    }
   ],
   "source": [
    "plt.plot(train_acc, label='train accuracy')\n",
    "plt.plot(test_acc, label='test accuracy')\n",
    "plt.xlabel('Epoch')\n",
    "plt.ylabel('Accuracy')\n",
    "plt.legend(loc='lower right')\n",
    "plt.show()\n",
    "\n",
    "print(\"\\nOn train - best accuracy: {:.2f}, final accuracy: {:.2f}\".format(best_train_acc, train_acc[-1]))\n",
    "print(\"On test - best accuracy: {:.2f}, final accuracy: {:.2f}\".format(best_test_acc, test_acc[-1]))"
   ]
  },
  {
   "cell_type": "code",
   "execution_count": null,
   "metadata": {},
   "outputs": [],
   "source": []
  }
 ],
 "metadata": {
  "kernelspec": {
   "display_name": "Python 3",
   "language": "python",
   "name": "python3"
  },
  "language_info": {
   "codemirror_mode": {
    "name": "ipython",
    "version": 3
   },
   "file_extension": ".py",
   "mimetype": "text/x-python",
   "name": "python",
   "nbconvert_exporter": "python",
   "pygments_lexer": "ipython3",
   "version": "3.10.5"
  }
 },
 "nbformat": 4,
 "nbformat_minor": 2
}
