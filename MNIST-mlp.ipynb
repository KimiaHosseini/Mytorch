{
 "cells": [
  {
   "cell_type": "markdown",
   "metadata": {},
   "source": [
    "### Import Libraries"
   ]
  },
  {
   "cell_type": "code",
   "execution_count": 11,
   "metadata": {
    "ExecuteTime": {
     "end_time": "2024-05-17T16:08:16.975510Z",
     "start_time": "2024-05-17T16:08:16.064917Z"
    }
   },
   "outputs": [],
   "source": [
    "\"If it does not work use code below while running this notebook in this dir.\"\n",
    "# import sys\n",
    "# import os\n",
    "# sys.path.append(os.path.abspath(os.getcwd()))\n",
    "\n",
    "from mytorch import Tensor, Model\n",
    "from mytorch import activation as active_func\n",
    "from mytorch import loss as loss_func\n",
    "from mytorch import optimizer as optim \n",
    "from mytorch import layer as nn\n",
    "from mytorch.util import DataLoader\n",
    "\n",
    "from mytorch.util import flatten\n",
    "\n",
    "import numpy as np\n",
    "import matplotlib.pyplot as plt"
   ]
  },
  {
   "cell_type": "markdown",
   "metadata": {},
   "source": [
    "### Load MNIST"
   ]
  },
  {
   "cell_type": "code",
   "execution_count": 12,
   "metadata": {
    "ExecuteTime": {
     "end_time": "2024-05-17T16:08:19.193232Z",
     "start_time": "2024-05-17T16:08:16.978829Z"
    }
   },
   "outputs": [
    {
     "name": "stdout",
     "output_type": "stream",
     "text": [
      "loading train...\n",
      "loading test...\n",
      "processing...\n"
     ]
    },
    {
     "data": {
      "text/plain": [
       "'you can see how data is loaded'"
      ]
     },
     "execution_count": 12,
     "metadata": {},
     "output_type": "execute_result"
    }
   ],
   "source": [
    "data_loader = DataLoader(train_addr='MNIST/train', test_addr='MNIST/test')\n",
    "data_loader.load()\n",
    "\n",
    "trainloader = data_loader.getTrain()\n",
    "testloader = data_loader.getTest()\n",
    "\n",
    "\"you can see how data is loaded\"\n",
    "# print(data_loader.getTrain()[0][0].shape)\n",
    "# print(data_loader.getTrain()[0][1].shape)"
   ]
  },
  {
   "cell_type": "markdown",
   "metadata": {},
   "source": [
    "### Define and Create your Model"
   ]
  },
  {
   "cell_type": "code",
   "execution_count": 13,
   "metadata": {
    "ExecuteTime": {
     "end_time": "2024-05-17T16:11:53.054706Z",
     "start_time": "2024-05-17T16:11:52.991367Z"
    }
   },
   "outputs": [
    {
     "name": "stdout",
     "output_type": "stream",
     "text": [
      "fc1:  linear - total param: 200704 - in: 784, out: 256\n",
      "fc2:  linear - total param: 32768 - in: 256, out: 128\n",
      "fc3:  linear - total param: 8192 - in: 128, out: 64\n",
      "fc4:  linear - total param: 640 - in: 64, out: 10\n",
      "None\n"
     ]
    }
   ],
   "source": [
    "class MyModel(Model):\n",
    "    def __init__(self):\n",
    "        super().__init__()\n",
    "        self.fc1 = nn.Linear(784, 256, need_bias=True)\n",
    "        self.fc2 = nn.Linear(256, 128, need_bias=True)\n",
    "        self.fc3 = nn.Linear(128, 64, need_bias=True)\n",
    "        self.fc4 = nn.Linear(64, 10, need_bias=True)\n",
    "        self.layers = [\n",
    "            self.fc1, self.fc2, self.fc3, self.fc4\n",
    "        ]\n",
    "\n",
    "\n",
    "    def forward(self, x: Tensor) -> Tensor:\n",
    "        x = Tensor(np.reshape(x.data, (x.shape[0], -1)), requires_grad=x.requires_grad)\n",
    "        x = active_func.relu(self.fc1(x))\n",
    "        x = active_func.relu(self.fc2(x))\n",
    "        x = active_func.relu(self.fc3(x))\n",
    "        x = self.fc4(x)\n",
    "        return x\n",
    "\n",
    "model = MyModel()\n",
    "\n",
    "print(model.summary())"
   ]
  },
  {
   "cell_type": "markdown",
   "metadata": {},
   "source": [
    "### Choose a Loss Function"
   ]
  },
  {
   "cell_type": "code",
   "execution_count": 14,
   "metadata": {
    "ExecuteTime": {
     "end_time": "2024-05-17T16:11:54.308366Z",
     "start_time": "2024-05-17T16:11:54.247106Z"
    }
   },
   "outputs": [],
   "source": [
    "\"TODO: choose a proper loss function\"\n",
    "criterion = loss_func.CategoricalCrossEntropy"
   ]
  },
  {
   "cell_type": "markdown",
   "metadata": {},
   "source": [
    "### Choose an Optimizer"
   ]
  },
  {
   "cell_type": "code",
   "execution_count": 15,
   "metadata": {
    "ExecuteTime": {
     "end_time": "2024-05-17T16:14:26.847776Z",
     "start_time": "2024-05-17T16:14:26.800690Z"
    }
   },
   "outputs": [
    {
     "name": "stdout",
     "output_type": "stream",
     "text": [
      "[<mytorch.layer.linear.Linear object at 0x0000021718527910>, <mytorch.layer.linear.Linear object at 0x0000021718527DC0>, <mytorch.layer.linear.Linear object at 0x00000217185275B0>, <mytorch.layer.linear.Linear object at 0x000002171852A110>]\n"
     ]
    }
   ],
   "source": [
    "\"TODO: choose a proper optimizer\"\n",
    "optimizer = optim.SGD(model.layers, learning_rate=0.01)"
   ]
  },
  {
   "cell_type": "markdown",
   "metadata": {},
   "source": [
    "### Training Model"
   ]
  },
  {
   "cell_type": "code",
   "execution_count": 17,
   "metadata": {
    "ExecuteTime": {
     "end_time": "2024-05-17T16:17:10.000355Z",
     "start_time": "2024-05-17T16:16:21.898037Z"
    }
   },
   "outputs": [
    {
     "name": "stdout",
     "output_type": "stream",
     "text": [
      "Epoch 1/30, Train Accuracy: 59.31%, Test Accuracy: 67.50%\n",
      "Epoch 2/30, Train Accuracy: 79.51%, Test Accuracy: 81.70%\n",
      "Epoch 3/30, Train Accuracy: 85.75%, Test Accuracy: 85.00%\n",
      "Epoch 4/30, Train Accuracy: 87.95%, Test Accuracy: 86.00%\n",
      "Epoch 5/30, Train Accuracy: 89.10%, Test Accuracy: 87.30%\n",
      "Epoch 6/30, Train Accuracy: 89.95%, Test Accuracy: 87.90%\n",
      "Epoch 7/30, Train Accuracy: 90.62%, Test Accuracy: 88.20%\n",
      "Epoch 8/30, Train Accuracy: 91.13%, Test Accuracy: 88.30%\n",
      "Epoch 9/30, Train Accuracy: 91.51%, Test Accuracy: 88.60%\n",
      "Epoch 10/30, Train Accuracy: 91.81%, Test Accuracy: 89.20%\n",
      "Epoch 11/30, Train Accuracy: 92.18%, Test Accuracy: 89.80%\n",
      "Epoch 12/30, Train Accuracy: 92.56%, Test Accuracy: 90.10%\n",
      "Epoch 13/30, Train Accuracy: 92.87%, Test Accuracy: 90.40%\n",
      "Epoch 14/30, Train Accuracy: 93.22%, Test Accuracy: 90.30%\n",
      "Epoch 15/30, Train Accuracy: 93.50%, Test Accuracy: 90.30%\n",
      "Epoch 16/30, Train Accuracy: 93.73%, Test Accuracy: 90.60%\n",
      "Epoch 17/30, Train Accuracy: 93.92%, Test Accuracy: 90.60%\n",
      "Epoch 18/30, Train Accuracy: 94.17%, Test Accuracy: 90.60%\n",
      "Epoch 19/30, Train Accuracy: 94.34%, Test Accuracy: 90.50%\n",
      "Epoch 20/30, Train Accuracy: 94.53%, Test Accuracy: 90.40%\n",
      "Epoch 21/30, Train Accuracy: 94.79%, Test Accuracy: 90.50%\n",
      "Epoch 22/30, Train Accuracy: 95.06%, Test Accuracy: 91.00%\n",
      "Epoch 23/30, Train Accuracy: 95.28%, Test Accuracy: 91.10%\n",
      "Epoch 24/30, Train Accuracy: 95.43%, Test Accuracy: 91.10%\n",
      "Epoch 25/30, Train Accuracy: 95.61%, Test Accuracy: 91.30%\n",
      "Epoch 26/30, Train Accuracy: 95.74%, Test Accuracy: 91.40%\n",
      "Epoch 27/30, Train Accuracy: 95.94%, Test Accuracy: 91.60%\n",
      "Epoch 28/30, Train Accuracy: 96.12%, Test Accuracy: 91.60%\n",
      "Epoch 29/30, Train Accuracy: 96.20%, Test Accuracy: 91.70%\n",
      "Epoch 30/30, Train Accuracy: 96.38%, Test Accuracy: 91.80%\n"
     ]
    }
   ],
   "source": [
    "training_data_images = []\n",
    "training_data_labels = []\n",
    "for image_batch, label_batch in trainloader:\n",
    "    for idx in range(500):\n",
    "        normalized_image = image_batch.data[idx].reshape(-1) / 255.0\n",
    "        training_data_images.append(normalized_image)\n",
    "    training_data_labels.extend(label_batch)\n",
    "\n",
    "training_data_images = Tensor(np.array(training_data_images), requires_grad=True)\n",
    "training_data_labels = Tensor(np.array(training_data_labels), requires_grad=True)\n",
    "\n",
    "testing_data_images = []\n",
    "testing_data_labels = []\n",
    "for image_batch, label_batch in testloader:\n",
    "    for idx in range(100):\n",
    "        normalized_image = image_batch.data[idx].reshape(-1) / 255.0\n",
    "        testing_data_images.append(normalized_image)\n",
    "    testing_data_labels.extend(label_batch)\n",
    "\n",
    "testing_data_images = Tensor(np.array(testing_data_images), requires_grad=True)\n",
    "testing_data_labels = Tensor(np.array(testing_data_labels), requires_grad=True)\n",
    "\n",
    "# Set training parameters\n",
    "TOTAL_EPOCHS = 30\n",
    "SAMPLE_BATCH_SIZE = 50\n",
    "train_acc = []\n",
    "test_acc = []\n",
    "best_train_acc = 0.0\n",
    "best_test_acc = 0.0\n",
    "\n",
    "# Training and evaluation loop\n",
    "for epoch in range(TOTAL_EPOCHS):\n",
    "    model.train()\n",
    "    train_correct = 0\n",
    "    train_total = 0\n",
    "    for batch_start in range(0, training_data_images.shape[0], SAMPLE_BATCH_SIZE):\n",
    "        batch_inputs = training_data_images[batch_start:batch_start + SAMPLE_BATCH_SIZE]\n",
    "        batch_labels = training_data_labels[batch_start:batch_start + SAMPLE_BATCH_SIZE]\n",
    "        optimizer.zero_grad()\n",
    "        batch_outputs = model(batch_inputs)\n",
    "        loss_value = criterion(batch_outputs, batch_labels)\n",
    "        grad_tensor = Tensor(np.ones(loss_value.data.shape))\n",
    "        loss_value.backward(grad_tensor)\n",
    "        optimizer.step()\n",
    "\n",
    "        batch_predictions = np.argmax(batch_outputs.data, axis=1)\n",
    "        train_total += batch_labels.shape[0]\n",
    "        for idx in range(SAMPLE_BATCH_SIZE):\n",
    "            if batch_predictions[idx] == int(batch_labels.data[idx].data.item()):\n",
    "                train_correct += 1\n",
    "\n",
    "    epoch_train_accuracy = 100 * train_correct / train_total\n",
    "    train_acc.append(epoch_train_accuracy)\n",
    "    if epoch_train_accuracy > best_train_acc:\n",
    "        max_train_accuracy = epoch_train_accuracy\n",
    "\n",
    "    model.eval()\n",
    "    test_correct = 0\n",
    "    test_total = 0\n",
    "    for batch_start in range(0, testing_data_images.shape[0], SAMPLE_BATCH_SIZE):\n",
    "        batch_inputs = testing_data_images[batch_start:batch_start + SAMPLE_BATCH_SIZE]\n",
    "        batch_labels = testing_data_labels[batch_start:batch_start + SAMPLE_BATCH_SIZE]\n",
    "        batch_outputs = model(batch_inputs)\n",
    "        batch_predictions = np.argmax(batch_outputs.data, axis=1)\n",
    "        test_total += batch_labels.shape[0]\n",
    "        for idx in range(SAMPLE_BATCH_SIZE):\n",
    "            if batch_predictions[idx] == int(batch_labels.data[idx].data.item()):\n",
    "                test_correct += 1\n",
    "\n",
    "    epoch_test_accuracy = 100 * test_correct / test_total\n",
    "    test_acc.append(epoch_test_accuracy)\n",
    "    if epoch_test_accuracy > best_test_acc:\n",
    "        max_test_accuracy = epoch_test_accuracy\n",
    "\n",
    "    print(f'Epoch {epoch + 1}/{TOTAL_EPOCHS}, Train Accuracy: {epoch_train_accuracy:.2f}%, Test Accuracy: {epoch_test_accuracy:.2f}%')\n"
   ]
  },
  {
   "cell_type": "markdown",
   "metadata": {},
   "source": [
    "### Evaluate Model Performance"
   ]
  },
  {
   "cell_type": "code",
   "execution_count": 19,
   "metadata": {
    "ExecuteTime": {
     "end_time": "2024-05-17T16:17:14.295023Z",
     "start_time": "2024-05-17T16:17:14.123564Z"
    }
   },
   "outputs": [
    {
     "data": {
      "image/png": "[encoded data removed]",
      "text/plain": [
       "<Figure size 640x480 with 1 Axes>"
      ]
     },
     "metadata": {},
     "output_type": "display_data"
    },
    {
     "name": "stdout",
     "output_type": "stream",
     "text": [
      "\n",
      "On train - best accuracy: 0.00, final accuracy: 96.38\n",
      "On test - best accuracy: 0.00, final accuracy: 91.80\n"
     ]
    }
   ],
   "source": [
    "plt.plot(train_acc, label='train accuracy')\n",
    "plt.plot(test_acc, label = 'test accuracy')\n",
    "plt.xlabel('Epoch')\n",
    "plt.ylabel('Accuracy')\n",
    "plt.legend(loc='lower right')\n",
    "plt.show();\n",
    "\n",
    "print(\"\\nOn train - best accuracy: {:.2f}, final accuracy: {:.2f}\".format(best_train_acc, train_acc[-1]))\n",
    "print(\"On test - best accuracy: {:.2f}, final accuracy: {:.2f}\".format(best_test_acc, test_acc[-1]))"
   ]
  },
  {
   "cell_type": "code",
   "execution_count": null,
   "metadata": {},
   "outputs": [],
   "source": []
  }
 ],
 "metadata": {
  "kernelspec": {
   "display_name": "Python 3",
   "language": "python",
   "name": "python3"
  },
  "language_info": {
   "codemirror_mode": {
    "name": "ipython",
    "version": 3
   },
   "file_extension": ".py",
   "mimetype": "text/x-python",
   "name": "python",
   "nbconvert_exporter": "python",
   "pygments_lexer": "ipython3",
   "version": "3.10.5"
  }
 },
 "nbformat": 4,
 "nbformat_minor": 2
}
